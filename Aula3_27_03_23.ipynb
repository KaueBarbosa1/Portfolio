{
  "nbformat": 4,
  "nbformat_minor": 0,
  "metadata": {
    "colab": {
      "provenance": [],
      "authorship_tag": "ABX9TyPCs0pQGSBQhx4XlbPpMnj3",
      "include_colab_link": true
    },
    "kernelspec": {
      "name": "python3",
      "display_name": "Python 3"
    },
    "language_info": {
      "name": "python"
    }
  },
  "cells": [
    {
      "cell_type": "markdown",
      "metadata": {
        "id": "view-in-github",
        "colab_type": "text"
      },
      "source": [
        "<a href=\"https://colab.research.google.com/github/KaueBarbosa1/Portfolio/blob/main/Aula3_27_03_23.ipynb\" target=\"_parent\"><img src=\"https://colab.research.google.com/assets/colab-badge.svg\" alt=\"Open In Colab\"/></a>"
      ]
    },
    {
      "cell_type": "code",
      "execution_count": null,
      "metadata": {
        "colab": {
          "base_uri": "https://localhost:8080/"
        },
        "id": "voFUNk-r9pLT",
        "outputId": "c85eea36-dd70-4d46-9dff-5975755ec391"
      },
      "outputs": [
        {
          "output_type": "execute_result",
          "data": {
            "text/plain": [
              "[1.73, 1.68, 1.71, 1.89]"
            ]
          },
          "metadata": {},
          "execution_count": 1
        }
      ],
      "source": [
        "[1.73, 1.68, 1.71, 1.89]"
      ]
    },
    {
      "cell_type": "code",
      "source": [
        "fam = [1.73, 1.68, 1.71, 1.89]\n",
        "fam"
      ],
      "metadata": {
        "colab": {
          "base_uri": "https://localhost:8080/"
        },
        "id": "iGHBhbns-CaD",
        "outputId": "eee6bc5f-4f46-48f8-93cf-6a24226c6a3a"
      },
      "execution_count": null,
      "outputs": [
        {
          "output_type": "execute_result",
          "data": {
            "text/plain": [
              "[1.73, 1.68, 1.71, 1.89]"
            ]
          },
          "metadata": {},
          "execution_count": 2
        }
      ]
    },
    {
      "cell_type": "code",
      "source": [
        "fam = [\"Lili\", 1.73, \"Emma\", 1.68, \"mom\", 1.71, \"dad\", 1.89]"
      ],
      "metadata": {
        "id": "Xox4jXyF-aDq"
      },
      "execution_count": null,
      "outputs": []
    },
    {
      "cell_type": "code",
      "source": [
        "type(fam)"
      ],
      "metadata": {
        "colab": {
          "base_uri": "https://localhost:8080/"
        },
        "id": "yVSMBNjzAngP",
        "outputId": "7f1c6404-a503-473c-c966-c88ea303415c"
      },
      "execution_count": null,
      "outputs": [
        {
          "output_type": "execute_result",
          "data": {
            "text/plain": [
              "list"
            ]
          },
          "metadata": {},
          "execution_count": 8
        }
      ]
    },
    {
      "cell_type": "code",
      "source": [
        "fam2 = [[\"Lili\", 1.73],\n",
        "        [\"emma\", 1.68],\n",
        "        [\"mom\", 1.71],\n",
        "        [\"dad\", 1.89]]\n",
        "fam2"
      ],
      "metadata": {
        "colab": {
          "base_uri": "https://localhost:8080/"
        },
        "id": "lDaa-Djp-zke",
        "outputId": "3ffab423-0e6e-42bc-ed49-97636e988cf6"
      },
      "execution_count": null,
      "outputs": [
        {
          "output_type": "execute_result",
          "data": {
            "text/plain": [
              "[['Lili', 1.73], ['emma', 1.68], ['mom', 1.71], ['dad', 1.89]]"
            ]
          },
          "metadata": {},
          "execution_count": 5
        }
      ]
    },
    {
      "cell_type": "code",
      "source": [
        "type(fam2)"
      ],
      "metadata": {
        "colab": {
          "base_uri": "https://localhost:8080/"
        },
        "id": "oY-bBk-PAr0T",
        "outputId": "2f31bee7-797a-42f6-b864-65a0de331e19"
      },
      "execution_count": null,
      "outputs": [
        {
          "output_type": "execute_result",
          "data": {
            "text/plain": [
              "list"
            ]
          },
          "metadata": {},
          "execution_count": 9
        }
      ]
    },
    {
      "cell_type": "code",
      "source": [
        "hall = 11.25\n",
        "kit = 18\n",
        "liv = 20\n",
        "bed = 10.75\n",
        "bath = 9.50"
      ],
      "metadata": {
        "id": "ODTIo0itBni-"
      },
      "execution_count": null,
      "outputs": []
    },
    {
      "cell_type": "code",
      "source": [
        "elm = [\"hall\", hall, \"kit\", kit, \"living room\", liv, \"bedroom\", bed, \"bathroom\", bath]\n",
        "print(elm)"
      ],
      "metadata": {
        "colab": {
          "base_uri": "https://localhost:8080/"
        },
        "id": "QEkT2-4WCGrs",
        "outputId": "b0262ad9-5ce9-4820-ba58-82dc6b51d36f"
      },
      "execution_count": null,
      "outputs": [
        {
          "output_type": "stream",
          "name": "stdout",
          "text": [
            "['hall', 11.25, 'kit', 18, 'living room', 20, 'bedroom', 10.75, 'bathroom', 9.5]\n"
          ]
        }
      ]
    },
    {
      "cell_type": "code",
      "source": [
        "lista1 = [1, 3, 4, 2]\n",
        "# È uma lista composta por 4 números inteiros."
      ],
      "metadata": {
        "id": "nVZJOaFHEmBv"
      },
      "execution_count": null,
      "outputs": []
    },
    {
      "cell_type": "code",
      "source": [
        "lista2 = [[1, 2, 3], [4, 5, 7]]\n",
        "# È uma lista composta por duas listas compostas cada uma com 3 números inteiros."
      ],
      "metadata": {
        "id": "VyIIIGOXF1zV"
      },
      "execution_count": null,
      "outputs": []
    },
    {
      "cell_type": "code",
      "source": [
        "lista3 = [1 + 2, \"a\" * 5, 3]\n",
        "# È uma lista composta por uma soma de 1 + 2, uma multiplicação da string \"a\" com o número 5, e o número 3 inteiro."
      ],
      "metadata": {
        "id": "xzL_hqehGX5N"
      },
      "execution_count": null,
      "outputs": []
    },
    {
      "cell_type": "code",
      "source": [
        "hall = 11.25\n",
        "kit = 18\n",
        "liv = 20\n",
        "bed = 10.75\n",
        "bath = 9.50"
      ],
      "metadata": {
        "id": "DGswM--_GymY"
      },
      "execution_count": null,
      "outputs": []
    },
    {
      "cell_type": "code",
      "source": [
        "house = [[\"hallway\", hall],\n",
        "         [\"kitchen\", kit],\n",
        "         [\"living room\", liv],\n",
        "         [\"bedroom\", bed],\n",
        "         [\"bathroom\", bath]]\n",
        "print(house)"
      ],
      "metadata": {
        "colab": {
          "base_uri": "https://localhost:8080/"
        },
        "id": "Zj7IChrOG4VL",
        "outputId": "dadaab05-4233-4118-8cca-7b4db1dceb17"
      },
      "execution_count": null,
      "outputs": [
        {
          "output_type": "stream",
          "name": "stdout",
          "text": [
            "[['hallway', 11.25], ['kitchen', 18], ['living room', 20], ['bedroom', 10.75], ['bathroom', 9.5]]\n"
          ]
        }
      ]
    },
    {
      "cell_type": "code",
      "source": [
        "type(house)"
      ],
      "metadata": {
        "colab": {
          "base_uri": "https://localhost:8080/"
        },
        "id": "WTBgIM15HYut",
        "outputId": "84bbefcb-a01f-419e-8e9e-90853f1c088d"
      },
      "execution_count": null,
      "outputs": [
        {
          "output_type": "execute_result",
          "data": {
            "text/plain": [
              "list"
            ]
          },
          "metadata": {},
          "execution_count": 27
        }
      ]
    },
    {
      "cell_type": "code",
      "source": [
        "fam[3]"
      ],
      "metadata": {
        "colab": {
          "base_uri": "https://localhost:8080/"
        },
        "id": "FSlkkYhkIYhc",
        "outputId": "28562935-12eb-4e9c-bb1f-c0cdfae4f550"
      },
      "execution_count": null,
      "outputs": [
        {
          "output_type": "execute_result",
          "data": {
            "text/plain": [
              "1.68"
            ]
          },
          "metadata": {},
          "execution_count": 30
        }
      ]
    },
    {
      "cell_type": "code",
      "source": [
        "house[3]"
      ],
      "metadata": {
        "colab": {
          "base_uri": "https://localhost:8080/"
        },
        "id": "cBQldl_3IsSj",
        "outputId": "7821be66-1b96-4800-cb0d-412822658b21"
      },
      "execution_count": null,
      "outputs": [
        {
          "output_type": "execute_result",
          "data": {
            "text/plain": [
              "['bedroom', 10.75]"
            ]
          },
          "metadata": {},
          "execution_count": 32
        }
      ]
    },
    {
      "cell_type": "code",
      "source": [
        "fam[6]"
      ],
      "metadata": {
        "colab": {
          "base_uri": "https://localhost:8080/",
          "height": 35
        },
        "id": "5QB4CO81Jm8e",
        "outputId": "7a74e265-2977-4f55-a334-9668491ccfc1"
      },
      "execution_count": null,
      "outputs": [
        {
          "output_type": "execute_result",
          "data": {
            "text/plain": [
              "'dad'"
            ],
            "application/vnd.google.colaboratory.intrinsic+json": {
              "type": "string"
            }
          },
          "metadata": {},
          "execution_count": 35
        }
      ]
    },
    {
      "cell_type": "code",
      "source": [
        "fam[-1]"
      ],
      "metadata": {
        "colab": {
          "base_uri": "https://localhost:8080/"
        },
        "id": "nw-6Ew3IJqmR",
        "outputId": "72f54989-57f6-4dd6-98f6-9c733108ff71"
      },
      "execution_count": null,
      "outputs": [
        {
          "output_type": "execute_result",
          "data": {
            "text/plain": [
              "1.89"
            ]
          },
          "metadata": {},
          "execution_count": 36
        }
      ]
    },
    {
      "cell_type": "code",
      "source": [
        "fam[7]"
      ],
      "metadata": {
        "colab": {
          "base_uri": "https://localhost:8080/"
        },
        "id": "GELgnSTHJtmM",
        "outputId": "c0cf9d05-ea59-4c01-828b-ae072aebff3b"
      },
      "execution_count": null,
      "outputs": [
        {
          "output_type": "execute_result",
          "data": {
            "text/plain": [
              "1.89"
            ]
          },
          "metadata": {},
          "execution_count": 37
        }
      ]
    },
    {
      "cell_type": "code",
      "source": [
        "fam[3:5]"
      ],
      "metadata": {
        "colab": {
          "base_uri": "https://localhost:8080/"
        },
        "id": "ucXAnRFHKI6Y",
        "outputId": "e36187f5-4908-482c-9784-b13b68dfa8df"
      },
      "execution_count": null,
      "outputs": [
        {
          "output_type": "execute_result",
          "data": {
            "text/plain": [
              "[1.68, 'mom']"
            ]
          },
          "metadata": {},
          "execution_count": 43
        }
      ]
    },
    {
      "cell_type": "code",
      "source": [
        "fam[1:4]\n",
        "# [Start : End]"
      ],
      "metadata": {
        "colab": {
          "base_uri": "https://localhost:8080/"
        },
        "id": "n0Sp4sy4KO47",
        "outputId": "a09740af-c4ba-45bd-960f-ac6d67b0f8b9"
      },
      "execution_count": null,
      "outputs": [
        {
          "output_type": "execute_result",
          "data": {
            "text/plain": [
              "[1.73, 'Emma', 1.68]"
            ]
          },
          "metadata": {},
          "execution_count": 44
        }
      ]
    },
    {
      "cell_type": "code",
      "source": [
        "fam[0:7]"
      ],
      "metadata": {
        "colab": {
          "base_uri": "https://localhost:8080/"
        },
        "id": "dYKVDICBLDFW",
        "outputId": "18b9528b-f63e-4db4-bc5b-1a8f6dc1da79"
      },
      "execution_count": null,
      "outputs": [
        {
          "output_type": "execute_result",
          "data": {
            "text/plain": [
              "['Lili', 1.73, 'Emma', 1.68, 'mom', 1.71, 'dad']"
            ]
          },
          "metadata": {},
          "execution_count": 45
        }
      ]
    },
    {
      "cell_type": "code",
      "source": [
        "areas = [\"hallway\", 11.25, \"kitchen\", 18, \"living room\", 20, \"bedroom\", 10.75, \"bathroom\", 9.50]"
      ],
      "metadata": {
        "id": "60rK7u2jLGaW"
      },
      "execution_count": null,
      "outputs": []
    },
    {
      "cell_type": "code",
      "source": [
        "print(areas[1])"
      ],
      "metadata": {
        "colab": {
          "base_uri": "https://localhost:8080/"
        },
        "id": "5WxFXfE6Mh8L",
        "outputId": "5f687ed0-9310-4448-a62b-6f849f3c8a79"
      },
      "execution_count": null,
      "outputs": [
        {
          "output_type": "stream",
          "name": "stdout",
          "text": [
            "11.25\n"
          ]
        }
      ]
    },
    {
      "cell_type": "code",
      "source": [
        "print(areas[-1])"
      ],
      "metadata": {
        "colab": {
          "base_uri": "https://localhost:8080/"
        },
        "id": "XmMkAQvwMuwa",
        "outputId": "95fe7ef8-3f62-4ce6-859b-01d60dce949e"
      },
      "execution_count": null,
      "outputs": [
        {
          "output_type": "stream",
          "name": "stdout",
          "text": [
            "9.5\n"
          ]
        }
      ]
    },
    {
      "cell_type": "code",
      "source": [
        "print(areas[5])"
      ],
      "metadata": {
        "colab": {
          "base_uri": "https://localhost:8080/"
        },
        "id": "5c3sM-XuNKOy",
        "outputId": "09038f3a-92ac-4a16-c035-7210acac9d12"
      },
      "execution_count": null,
      "outputs": [
        {
          "output_type": "stream",
          "name": "stdout",
          "text": [
            "20\n"
          ]
        }
      ]
    }
  ]
}