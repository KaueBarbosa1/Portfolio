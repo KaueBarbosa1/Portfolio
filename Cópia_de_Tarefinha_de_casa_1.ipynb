{
  "nbformat": 4,
  "nbformat_minor": 0,
  "metadata": {
    "colab": {
      "provenance": [],
      "include_colab_link": true
    },
    "kernelspec": {
      "name": "python3",
      "display_name": "Python 3"
    },
    "language_info": {
      "name": "python"
    }
  },
  "cells": [
    {
      "cell_type": "markdown",
      "metadata": {
        "id": "view-in-github",
        "colab_type": "text"
      },
      "source": [
        "<a href=\"https://colab.research.google.com/github/KaueBarbosa1/Portfolio/blob/main/C%C3%B3pia_de_Tarefinha_de_casa_1.ipynb\" target=\"_parent\"><img src=\"https://colab.research.google.com/assets/colab-badge.svg\" alt=\"Open In Colab\"/></a>"
      ]
    },
    {
      "cell_type": "markdown",
      "source": [
        "1) Elabore um código em que existe as variáveis : aluno, nota1, nota2,nota3, media. Neste código você deve escolher uma string para a variável aluno, float para cada nota. Pesquise o cálculo da média aritmética e aplique o resuldado do cálculo na variável media. Por fim, usando o comando print, mostre o nome do aluno ao lado de sua media. Use a função print para mostrar o tipo da variável aluno e tipo da variável media."
      ],
      "metadata": {
        "id": "hQZSWBJlsdAn"
      }
    },
    {
      "cell_type": "code",
      "source": [
        "#Resposta\n",
        "aluno = \"Kaue\"\n",
        "nota1 = 8.2\n",
        "nota2 = 7.4\n",
        "nota3 = 9.3\n",
        "media = 8.3\n",
        "#exibição da variável media\n",
        "print(\"Kaue: \" + str(media)) \n",
        "#exibição do tipo da variavel aluno\n",
        "print(type(aluno))\n",
        "#exibição do tipo da variavel media\n",
        "print(type(media))"
      ],
      "metadata": {
        "id": "0oJOVsXEsqvW",
        "colab": {
          "base_uri": "https://localhost:8080/"
        },
        "outputId": "53456962-5924-4888-e835-ed2c5ad679e0"
      },
      "execution_count": null,
      "outputs": [
        {
          "output_type": "stream",
          "name": "stdout",
          "text": [
            "Kaue: 8.3\n",
            "<class 'str'>\n",
            "<class 'float'>\n"
          ]
        }
      ]
    },
    {
      "cell_type": "markdown",
      "source": [
        "2) ELabore um código que realiza a concatenção de strings para formar um nome. Ao fim, exiba, através do comando print, o nome concatenado (nome_completo). "
      ],
      "metadata": {
        "id": "MQNGFrLrt59F"
      }
    },
    {
      "cell_type": "code",
      "source": [
        "#RESPOSTA\n",
        "nome = \"Kaue\"\n",
        "sobrenome = \" Barbosa\"\n",
        "nome_completo = nome + sobrenome\n",
        "#exibição do nome concatenado\n",
        "print(nome_completo)\n"
      ],
      "metadata": {
        "id": "agNgURZovQAO",
        "colab": {
          "base_uri": "https://localhost:8080/"
        },
        "outputId": "9efe96ad-6362-4409-8d3e-9dc16ff0d88a"
      },
      "execution_count": 2,
      "outputs": [
        {
          "output_type": "stream",
          "name": "stdout",
          "text": [
            "Kaue Barbosa\n"
          ]
        }
      ]
    },
    {
      "cell_type": "markdown",
      "source": [
        "3) Elabore um código em que seja criada uma lista de alimentos em forma de string. Nesta lista você deve escolher  10 alimentos.\n",
        "* a) realize o print do último alimento usando index negativo\n",
        "* b) realize o print do quarto elemento da lista\n",
        "* c) realize o print dos 5 primeiros elementos da lista\n",
        "* d) realize o print do 3 ultimos elementos da lista\n",
        "* e) realize o print do terceiro até o sétimo elemento da lista\n"
      ],
      "metadata": {
        "id": "Jvb8nt2-vkyk"
      }
    },
    {
      "cell_type": "code",
      "source": [
        "#Resposta\n",
        "lista_de_alimentos = ['Lasanha', 'Frango', 'Macarrão', 'Uva', 'Maça', 'Sorvete', 'Pipoca', 'Feijão', 'Churrasco', 'Açai']\n",
        "#item a\n",
        "print(lista_de_alimentos[-1])\n",
        "#item b\n",
        "print(lista_de_alimentos[4])\n",
        "#item c\n",
        "print(lista_de_alimentos[0:5])\n",
        "#item d\n",
        "print(lista_de_alimentos[7:10])\n",
        "#item e\n",
        "print(lista_de_alimentos[2:8])"
      ],
      "metadata": {
        "id": "Ej916hE4x3vr",
        "colab": {
          "base_uri": "https://localhost:8080/"
        },
        "outputId": "c7d4f46d-5f9d-499a-b39a-c03b20d365d2"
      },
      "execution_count": null,
      "outputs": [
        {
          "output_type": "stream",
          "name": "stdout",
          "text": [
            "Açai\n",
            "Maça\n",
            "['Lasanha', 'Frango', 'Macarrão', 'Uva', 'Maça']\n",
            "['Feijão', 'Churrasco', 'Açai']\n",
            "['Macarrão', 'Uva', 'Maça', 'Sorvete', 'Pipoca', 'Feijão']\n"
          ]
        }
      ]
    },
    {
      "cell_type": "markdown",
      "source": [
        "4) Adapte a lista de alimentos criada na questão 3 para incluir o preço da cada alimento. Após cada string você deve incluir um valor numérico que representa o preço do alimento\n",
        "* a) Crie uma variavel `gasto_total` que recebe a soma de todos os preços, acessando a lista pelos indexes.\n",
        "* b) mostre via print o valor da variável `gasto_total`\n",
        "* c) crie uma nova lista chamada `alimentos_mais_caros` que contem os 3 alimentos mais caros. Nessa lista deve conter os alimentos com valor ao lado. a inclusão dos elementos na lista deve ser via index. Ex: `lista_nova = [lista_antiga[2],lista_antiga[3]...]`\n",
        "* d) mostre via print a lista `alimentos_mais_caros`"
      ],
      "metadata": {
        "id": "VBEp3lBnyQyt"
      }
    },
    {
      "cell_type": "code",
      "source": [
        "#resposta\n",
        "lista_de_alimentos_com_preco = ['Lasanha', 10.50, 'Frango', 5.20, 'Macarrão', 4, 'Uva', 3.20, 'Maça', 3, 'Sorvete', 9.10, 'Pipoca', 12, 'Feijão', 5, 'Churrasco', 10.20, 'Açai', 10]\n",
        "#item a\n",
        "gasto_total = 10.50 + 5.20 + 4 + 3.20 + 3 + 9.10 + 12 + 5 + 10.20 + 10\n",
        "#item b\n",
        "print(gasto_total)\n",
        "#item c\n",
        "alimentos_mais_caros = [lista_de_alimentos_com_preco[12:14], lista_de_alimentos_com_preco[:2], lista_de_alimentos_com_preco[16:18]]\n",
        "#item d\n",
        "print(alimentos_mais_caros)\n",
        "\n"
      ],
      "metadata": {
        "id": "UA1X8iq71Die",
        "colab": {
          "base_uri": "https://localhost:8080/"
        },
        "outputId": "94b8e125-a6f8-405a-a8ee-f35e3c4f6f6f"
      },
      "execution_count": null,
      "outputs": [
        {
          "output_type": "stream",
          "name": "stdout",
          "text": [
            "72.2\n",
            "[['Pipoca', 12], ['Lasanha', 10.5], ['Churrasco', 10.2]]\n"
          ]
        }
      ]
    },
    {
      "cell_type": "markdown",
      "source": [
        "5) Adpate a lista de alimentos criada na questão 4. Agora a estrutura deve ser uma lista de listas. cada elemento com preço deve ser um lista, ou seja, a lista de alimentos deve conter 5 listas, em que cada lista possui um alimento e seu preço.\n",
        "* a) Crie uma variável `lista3` para ammazenar a terceiira lista contida na lista de alimentos. \n",
        "* b) Exiba a variável `lista3` \n",
        "* c) Crie uma variável `lista2a4` para armazenar da segunda até a quarta lista contida na lsita de alimentos.\n",
        "* d) Acessando os indexes da lista de alimentos no modo exemplo `lista[id1][id2]` realize os prints:\n",
        "** d1) do preço do terceiro alimento da lista\n",
        "** d2) do alimento da quarta lista\n",
        "** d3) do preço do quinto elemento da lista\n",
        "** d4) do alimento da primeira lista."
      ],
      "metadata": {
        "id": "nqp01e8g16FG"
      }
    },
    {
      "cell_type": "code",
      "source": [
        "#resposta\n",
        "lista_de_alimentos_adaptada = [['Lasanha', 10.50], ['Frango', 5.20], ['Macarrão', 4], ['Uva', 3.20], ['Maça', 3]]\n",
        "#item a\n",
        "lista3 = lista_de_alimentos_adaptada[2]\n",
        "#item b\n",
        "print(lista3)\n",
        "#item c\n",
        "lista2a4 = lista_de_alimentos_adaptada[1:4]\n",
        "#item d1\n",
        "print(lista_de_alimentos_adaptada[2][1])\n",
        "#item d2\n",
        "print(lista_de_alimentos_adaptada[3])\n",
        "#item d3\n",
        "print(lista_de_alimentos_adaptada[4][1])\n",
        "#item d4\n",
        "print(lista_de_alimentos_adaptada[0])"
      ],
      "metadata": {
        "id": "XTOqNZ1a4s-H",
        "colab": {
          "base_uri": "https://localhost:8080/"
        },
        "outputId": "df031907-47eb-428d-d956-bbdaac99c086"
      },
      "execution_count": null,
      "outputs": [
        {
          "output_type": "stream",
          "name": "stdout",
          "text": [
            "['Macarrão', 4]\n",
            "4\n",
            "['Uva', 3.2]\n",
            "3\n",
            "['Lasanha', 10.5]\n"
          ]
        }
      ]
    }
  ]
}